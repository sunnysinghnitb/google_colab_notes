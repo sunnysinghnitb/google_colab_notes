{
  "nbformat": 4,
  "nbformat_minor": 0,
  "metadata": {
    "colab": {
      "name": "RSA Prime Number Encryption in Python.ipynb",
      "version": "0.3.2",
      "provenance": [],
      "collapsed_sections": [],
      "include_colab_link": true
    },
    "kernelspec": {
      "name": "python3",
      "display_name": "Python 3"
    },
    "accelerator": "GPU"
  },
  "cells": [
    {
      "cell_type": "markdown",
      "metadata": {
        "id": "view-in-github",
        "colab_type": "text"
      },
      "source": [
        "<a href=\"https://colab.research.google.com/github/sunnysinghnitb/google_colab_notes/blob/master/RSA_Prime_Number_Encryption_in_Python.ipynb\" target=\"_parent\"><img src=\"https://colab.research.google.com/assets/colab-badge.svg\" alt=\"Open In Colab\"/></a>"
      ]
    },
    {
      "cell_type": "code",
      "metadata": {
        "id": "m5EkUfOxgyhq",
        "colab_type": "code",
        "colab": {}
      },
      "source": [
        "# The link to algorithm:\n",
        "# https://www.geeksforgeeks.org/rsa-algorithm-cryptography/"
      ],
      "execution_count": 0,
      "outputs": []
    },
    {
      "cell_type": "code",
      "metadata": {
        "id": "ucT4O1IcTFQz",
        "colab_type": "code",
        "colab": {}
      },
      "source": [
        "import numpy as np\n",
        "\n",
        "def factors(x):\n",
        "    ct = 0\n",
        "    for i in range(2, np.int32((x/2)+1)):\n",
        "        if(x%i == 0):\n",
        "            ct = ct + 1; \n",
        "    return ct\n",
        "\n",
        "    \n",
        "def encrypt(num, public_key):\n",
        "    val = (num**public_key[0]) % public_key[1]\n",
        "    return val\n",
        "\n",
        "def decrypt(num, public_key):\n",
        "    fac = np.array([0, 0])\n",
        "    fac1 = 0\n",
        "    fac2 = 0\n",
        "    a = 0\n",
        "    j = 0\n",
        "    \n",
        "    for i in range(2, np.int32(public_key[1]/2)+1):\n",
        "        if(public_key[1]%i == 0):\n",
        "            if(factors(i) == 0):\n",
        "                if(j == 0):\n",
        "                    fac = fac + np.array([i,0])\n",
        "                else: \n",
        "                    fac = fac + np.array([0,i])\n",
        "            j = j + 1\n",
        "\n",
        "            \n",
        "    fac1 = fac[0]\n",
        "    fac2 = fac[1]\n",
        "    \n",
        "    for a in range(0, 10000):\n",
        "        if((public_key[0]*a) % ((fac1 - 1) * (fac2 - 1)) == 1):\n",
        "            break\n",
        "            \n",
        "    val = (num**a) % public_key[1]\n",
        "    return val"
      ],
      "execution_count": 0,
      "outputs": []
    },
    {
      "cell_type": "code",
      "metadata": {
        "id": "tayHmVV-T5rn",
        "colab_type": "code",
        "colab": {}
      },
      "source": [
        "def encryptMessage(sequence):\n",
        "    encryptedSequence = \"\"\n",
        "    encryptedChar = ''\n",
        "    ct = 0\n",
        "    \n",
        "    for i in range(0, len(sequence)):\n",
        "        char = sequence[i]\n",
        "        \n",
        "        if char == ' ':\n",
        "            ct = ct + 1\n",
        "            \n",
        "        encryptedChar = chr(encrypt(ord(char), [5, 20711]) + 1750 + (i//5)) # product of two primes : 139 and 149\n",
        "        encryptedSequence = encryptedSequence + encryptedChar\n",
        "        \n",
        "    return encryptedSequence\n",
        "\n",
        "def decryptMessage(sequence):\n",
        "    decryptedSequence = \"\"\n",
        "    decryptedChar = ''\n",
        "    ct = 0\n",
        "    \n",
        "    for i in range(0, len(sequence)):\n",
        "        char = sequence[i]\n",
        "        \n",
        "        if char == ' ':\n",
        "            ct = ct + 1\n",
        "            \n",
        "        decryptedChar = chr(decrypt(ord(char) - 1750 - (i//5), [5, 20711])) # product of two primes : 139 and 149\n",
        "        decryptedSequence = decryptedSequence + decryptedChar\n",
        "        \n",
        "    return decryptedSequence"
      ],
      "execution_count": 0,
      "outputs": []
    },
    {
      "cell_type": "code",
      "metadata": {
        "id": "L2R6bPdrT-4Y",
        "colab_type": "code",
        "colab": {}
      },
      "source": [
        "def encryptMessageStrong(sequence):\n",
        "    return encryptMessage(encryptMessage(encryptMessage(encryptMessage(encryptMessage(encryptMessage(encryptMessage(encryptMessage(encryptMessage(encryptMessage(sequence))))))))))\n",
        "\n",
        "def decryptMessageStrong(sequence):\n",
        "    return decryptMessage(decryptMessage(decryptMessage(decryptMessage(decryptMessage(decryptMessage(decryptMessage(decryptMessage(decryptMessage(decryptMessage(sequence))))))))))"
      ],
      "execution_count": 0,
      "outputs": []
    },
    {
      "cell_type": "code",
      "metadata": {
        "id": "eLd99L-XUDZl",
        "colab_type": "code",
        "colab": {
          "base_uri": "https://localhost:8080/",
          "height": 34
        },
        "outputId": "c9f29700-963c-4fb7-e0f1-883048a0d420"
      },
      "source": [
        "print(encryptMessageStrong('sunnysinghnitb'))"
      ],
      "execution_count": 7,
      "outputs": [
        {
          "output_type": "stream",
          "text": [
            "㣒䠻௷௷㖏㎉ဴ䙙၆ⴵ᭰䢪剄䍱\n"
          ],
          "name": "stdout"
        }
      ]
    },
    {
      "cell_type": "code",
      "metadata": {
        "id": "La_ny7azUPGf",
        "colab_type": "code",
        "colab": {
          "base_uri": "https://localhost:8080/",
          "height": 34
        },
        "outputId": "1d40e455-3c9d-4766-dfca-82e40f5c265f"
      },
      "source": [
        "print(decryptMessageStrong('㣒䠻௷௷㖏㎉ဴ䙙၆ⴵ᭰䢪剄䍱'))"
      ],
      "execution_count": 11,
      "outputs": [
        {
          "output_type": "stream",
          "text": [
            "sunnysinghnitb\n"
          ],
          "name": "stdout"
        }
      ]
    }
  ]
}