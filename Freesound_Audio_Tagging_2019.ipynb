{
  "nbformat": 4,
  "nbformat_minor": 0,
  "metadata": {
    "colab": {
      "name": "Freesound Audio Tagging 2019.ipynb",
      "version": "0.3.2",
      "provenance": [],
      "collapsed_sections": []
    },
    "kernelspec": {
      "name": "python3",
      "display_name": "Python 3"
    },
    "accelerator": "GPU"
  },
  "cells": [
    {
      "cell_type": "code",
      "metadata": {
        "id": "C_EcWuJN1q8q",
        "colab_type": "code",
        "outputId": "e544d119-3a3b-4d26-e861-bbbbc6523bbf",
        "colab": {
          "base_uri": "https://localhost:8080/",
          "height": 51
        }
      },
      "source": [
        "#!mkdir .kaggle\n",
        "\n",
        "#%cd ./root\n",
        "#%cd ..\n",
        "\n",
        "#from google.colab import files\n",
        "#up = files.upload()\n",
        "\n",
        "#!chmod 600 /root/.kaggle/kaggle.json\n",
        "#!kaggle competitions list\n",
        "\n",
        "#!kaggle competitions download -c freesound-audio-tagging-2019\n",
        "\n",
        "#!rm test.zip\n",
        "!ls"
      ],
      "execution_count": 38,
      "outputs": [
        {
          "output_type": "stream",
          "text": [
            "audio_test.zip\t sample_submission.csv\t    train.csv\n",
            "audio_train.zip  test_post_competition.csv  train_post_competition.csv\n"
          ],
          "name": "stdout"
        }
      ]
    },
    {
      "cell_type": "code",
      "metadata": {
        "id": "vYff6uFr2yHI",
        "colab_type": "code",
        "colab": {}
      },
      "source": [
        "!kaggle competitions download -c freesound-audio-tagging"
      ],
      "execution_count": 0,
      "outputs": []
    },
    {
      "cell_type": "code",
      "metadata": {
        "id": "-bU05Lx0SVGB",
        "colab_type": "code",
        "colab": {}
      },
      "source": [
        "def plot_spectrogram(audio_path):\n",
        "    y, sr = librosa.load(audio_path, sr=None)\n",
        "    # Let's make and display a mel-scaled power (energy-squared) spectrogram\n",
        "    S = librosa.feature.melspectrogram(y, sr=sr, n_mels=128)\n",
        "\n",
        "    # Convert to log scale (dB). We'll use the peak power (max) as reference.\n",
        "    log_S = librosa.power_to_db(S, ref=np.max)\n",
        "    \n",
        "    # Make a new figure\n",
        "    plt.figure(figsize=(12,4))\n",
        "\n",
        "    # Display the spectrogram on a mel scale\n",
        "    # sample rate and hop length parameters are used to render the time axis\n",
        "    librosa.display.specshow(log_S, sr=sr, x_axis='time', y_axis='mel')\n",
        "\n",
        "    # Put a descriptive title on the plot\n",
        "    plt.title('mel power spectrogram')\n",
        "\n",
        "    # draw a color bar\n",
        "    plt.colorbar(format='%+02.0f dB')\n",
        "\n",
        "    # Make the figure layout compact\n",
        "    plt.tight_layout()"
      ],
      "execution_count": 0,
      "outputs": []
    },
    {
      "cell_type": "code",
      "metadata": {
        "id": "9-z94qCGSleb",
        "colab_type": "code",
        "colab": {}
      },
      "source": [
        "def save_spectrogram(audio_fname, image_fname):\n",
        "    y, sr = librosa.load(audio_fname, sr=None)\n",
        "    S = librosa.feature.melspectrogram(y, sr=sr, n_mels=128)\n",
        "    log_S = librosa.power_to_db(S, ref=np.max)\n",
        "    librosa.display.specshow(log_S, sr=sr, x_axis='time', y_axis='mel')\n",
        "    fig1 = plt.gcf()\n",
        "    plt.axis('off')\n",
        "    plt.show()\n",
        "    plt.draw()\n",
        "    fig1.savefig(image_fname, dpi=100)\n",
        "\n",
        "def audio_to_spectrogram(audio_dir_path, image_dir_path=None):\n",
        "    for paths in batch(audio_dir_path.ls(), 100):\n",
        "        for audio_path in paths:\n",
        "            audio_filename = get_filename(audio_path)\n",
        "            image_fname = audio_filename.split('.')[0] + '.png'\n",
        "            if image_dir_path:\n",
        "                image_fname = image_dir_path.as_posix() + '/' + image_fname\n",
        "            if Path(image_fname).exists(): continue\n",
        "            print(image_fname)\n",
        "            #plot_spectrogram(image_fname)\n",
        "            try:\n",
        "                save_spectrogram(audio_path.as_posix(), image_fname)\n",
        "            except ValueError as verr:\n",
        "                print('Failed to process %s %s' % (image_fname, verr))\n",
        "        # wait between every batch for xyz seconds\n",
        "        time.sleep(10)"
      ],
      "execution_count": 0,
      "outputs": []
    },
    {
      "cell_type": "code",
      "metadata": {
        "id": "0Z2JDDVmSniN",
        "colab_type": "code",
        "outputId": "8dccc214-89e5-4642-ca9c-72a090c3de5a",
        "colab": {
          "base_uri": "https://localhost:8080/",
          "height": 238
        }
      },
      "source": [
        "import pandas as pd\n",
        "image_train_path='train/'\n",
        "# get the labeled data from the `train.csv` file\n",
        "df_train = pd.read_csv('train.csv') \n",
        "print(df_train.head(5))\n",
        "\n",
        "# get the labels of the audio dataset\n",
        "labels = df_train['label']\n",
        "print(labels[:5])\n",
        "\n",
        "# get the filenames of all spectrogram images\n",
        "fnames = sorted(image_train_path)\n",
        "fnames[:5]"
      ],
      "execution_count": 46,
      "outputs": [
        {
          "output_type": "stream",
          "text": [
            "          fname         label  manually_verified\n",
            "0  00044347.wav        Hi-hat                  0\n",
            "1  001ca53d.wav     Saxophone                  1\n",
            "2  002d256b.wav       Trumpet                  0\n",
            "3  0033e230.wav  Glockenspiel                  1\n",
            "4  00353774.wav         Cello                  1\n",
            "0          Hi-hat\n",
            "1       Saxophone\n",
            "2         Trumpet\n",
            "3    Glockenspiel\n",
            "4           Cello\n",
            "Name: label, dtype: object\n"
          ],
          "name": "stdout"
        },
        {
          "output_type": "execute_result",
          "data": {
            "text/plain": [
              "['/', 'a', 'i', 'n', 'r']"
            ]
          },
          "metadata": {
            "tags": []
          },
          "execution_count": 46
        }
      ]
    },
    {
      "cell_type": "code",
      "metadata": {
        "id": "IVyN2s__XnRt",
        "colab_type": "code",
        "colab": {
          "base_uri": "https://localhost:8080/",
          "height": 231
        },
        "outputId": "aa844f82-d2fa-47bc-f445-ad790f58cc5c"
      },
      "source": [
        "import numpy as np\n",
        "np.random.seed(42)\n",
        "data = ImageDataBunch.from_lists(path, fnames, labels, ds_tfms=None, size=224, bs=bs)\n",
        "data.normalize(imagenet_stats)\n",
        "data.show_batch(rows=5, figsize=(8,8))"
      ],
      "execution_count": 50,
      "outputs": [
        {
          "output_type": "error",
          "ename": "NameError",
          "evalue": "ignored",
          "traceback": [
            "\u001b[0;31m---------------------------------------------------------------------------\u001b[0m",
            "\u001b[0;31mNameError\u001b[0m                                 Traceback (most recent call last)",
            "\u001b[0;32m<ipython-input-50-f971125ab7b4>\u001b[0m in \u001b[0;36m<module>\u001b[0;34m()\u001b[0m\n\u001b[1;32m      1\u001b[0m \u001b[0;32mimport\u001b[0m \u001b[0mnumpy\u001b[0m \u001b[0;32mas\u001b[0m \u001b[0mnp\u001b[0m\u001b[0;34m\u001b[0m\u001b[0;34m\u001b[0m\u001b[0m\n\u001b[1;32m      2\u001b[0m \u001b[0mnp\u001b[0m\u001b[0;34m.\u001b[0m\u001b[0mrandom\u001b[0m\u001b[0;34m.\u001b[0m\u001b[0mseed\u001b[0m\u001b[0;34m(\u001b[0m\u001b[0;36m42\u001b[0m\u001b[0;34m)\u001b[0m\u001b[0;34m\u001b[0m\u001b[0;34m\u001b[0m\u001b[0m\n\u001b[0;32m----> 3\u001b[0;31m \u001b[0mdata\u001b[0m \u001b[0;34m=\u001b[0m \u001b[0mImageDataBunch\u001b[0m\u001b[0;34m.\u001b[0m\u001b[0mfrom_lists\u001b[0m\u001b[0;34m(\u001b[0m\u001b[0mpath\u001b[0m\u001b[0;34m,\u001b[0m \u001b[0mfnames\u001b[0m\u001b[0;34m,\u001b[0m \u001b[0mlabels\u001b[0m\u001b[0;34m,\u001b[0m \u001b[0mds_tfms\u001b[0m\u001b[0;34m=\u001b[0m\u001b[0;32mNone\u001b[0m\u001b[0;34m,\u001b[0m \u001b[0msize\u001b[0m\u001b[0;34m=\u001b[0m\u001b[0;36m224\u001b[0m\u001b[0;34m,\u001b[0m \u001b[0mbs\u001b[0m\u001b[0;34m=\u001b[0m\u001b[0mbs\u001b[0m\u001b[0;34m)\u001b[0m\u001b[0;34m\u001b[0m\u001b[0;34m\u001b[0m\u001b[0m\n\u001b[0m\u001b[1;32m      4\u001b[0m \u001b[0mdata\u001b[0m\u001b[0;34m.\u001b[0m\u001b[0mnormalize\u001b[0m\u001b[0;34m(\u001b[0m\u001b[0mimagenet_stats\u001b[0m\u001b[0;34m)\u001b[0m\u001b[0;34m\u001b[0m\u001b[0;34m\u001b[0m\u001b[0m\n\u001b[1;32m      5\u001b[0m \u001b[0mdata\u001b[0m\u001b[0;34m.\u001b[0m\u001b[0mshow_batch\u001b[0m\u001b[0;34m(\u001b[0m\u001b[0mrows\u001b[0m\u001b[0;34m=\u001b[0m\u001b[0;36m5\u001b[0m\u001b[0;34m,\u001b[0m \u001b[0mfigsize\u001b[0m\u001b[0;34m=\u001b[0m\u001b[0;34m(\u001b[0m\u001b[0;36m8\u001b[0m\u001b[0;34m,\u001b[0m\u001b[0;36m8\u001b[0m\u001b[0;34m)\u001b[0m\u001b[0;34m)\u001b[0m\u001b[0;34m\u001b[0m\u001b[0;34m\u001b[0m\u001b[0m\n",
            "\u001b[0;31mNameError\u001b[0m: name 'ImageDataBunch' is not defined"
          ]
        }
      ]
    }
  ]
}