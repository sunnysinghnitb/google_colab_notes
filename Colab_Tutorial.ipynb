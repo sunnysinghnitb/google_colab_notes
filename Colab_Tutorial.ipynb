{
  "nbformat": 4,
  "nbformat_minor": 0,
  "metadata": {
    "colab": {
      "name": "Colab Tutorial.ipynb",
      "version": "0.3.2",
      "provenance": [],
      "collapsed_sections": []
    },
    "kernelspec": {
      "name": "python2",
      "display_name": "Python 2"
    },
    "accelerator": "GPU"
  },
  "cells": [
    {
      "metadata": {
        "id": "qLuNDoBJtx-5",
        "colab_type": "code",
        "colab": {}
      },
      "cell_type": "code",
      "source": [
        "#If colab stucks on \"initializing ..\"  goto Runtime>Interrupt Execution"
      ],
      "execution_count": 0,
      "outputs": []
    },
    {
      "metadata": {
        "id": "6_Ns1Avf2acP",
        "colab_type": "code",
        "colab": {}
      },
      "cell_type": "code",
      "source": [
        "# Paths \n",
        "\n",
        "Colab directory -   '/content/' \n",
        "files_folder_drive_uploaded_or_mounted_on colab -  '/content/file_folder_drive'"
      ],
      "execution_count": 0,
      "outputs": []
    },
    {
      "metadata": {
        "id": "5xlf41nj04Cc",
        "colab_type": "code",
        "colab": {}
      },
      "cell_type": "code",
      "source": [
        "!cd #won't work here \n",
        "\n",
        "#use \n",
        "import os \n",
        "os.getcwd() \n",
        "os.chdir('path') \n",
        "\n",
        "#To autocomplete path or view files that exist\n",
        "Press Tab \n",
        "\n",
        "#View contents of directory \n",
        "!ls # for current directory \n",
        "!ls path #for specified directory \n",
        "\n",
        "#Make new directory \n",
        "!mkdir dir_name #to make new dir. in current directory \n",
        "!mkdir path/dir_name \n",
        "\n",
        "#Remove/Delete \n",
        "!rm -r dir_name \n",
        "!rm -r path/dir_name \n",
        "\n",
        "!rm file\n",
        "!rm path/file \n"
      ],
      "execution_count": 0,
      "outputs": []
    },
    {
      "metadata": {
        "id": "9azK4xxaaZBS",
        "colab_type": "code",
        "colab": {}
      },
      "cell_type": "code",
      "source": [
        "!apt-get install axel \n",
        "!axel -a <download_link> #for faster downloads"
      ],
      "execution_count": 0,
      "outputs": []
    },
    {
      "metadata": {
        "id": "0-2ZfoQm03d5",
        "colab_type": "code",
        "colab": {}
      },
      "cell_type": "code",
      "source": [
        ""
      ],
      "execution_count": 0,
      "outputs": []
    },
    {
      "metadata": {
        "id": "y-pvqA9v0j9t",
        "colab_type": "code",
        "colab": {}
      },
      "cell_type": "code",
      "source": [
        "ls"
      ],
      "execution_count": 0,
      "outputs": []
    },
    {
      "metadata": {
        "id": "zvXrEBaU1zhe",
        "colab_type": "code",
        "colab": {}
      },
      "cell_type": "code",
      "source": [
        "# Always move your datasets to colab's directory:     /content/ \n",
        "# Otherwise computation will be affected"
      ],
      "execution_count": 0,
      "outputs": []
    },
    {
      "metadata": {
        "id": "uNqVj0NwvjLg",
        "colab_type": "code",
        "colab": {}
      },
      "cell_type": "code",
      "source": [
        "\n",
        "#Upload large files from local machine - use kaggle \n",
        "\n",
        "#1. Upload datafiles on kaggle (make dataset there) in private mod (for 20GBs), public mod (for 10GBs) for 1 dataset.\n",
        "#2. If more data then 20GBs , make another dataset (Upload speeds on kaggle >> Google Colab) \n",
        "\n",
        "!pip install kaggle \n",
        "\n",
        "# Open dataset page , get api-key :    \n",
        "!kaggle datasets download -d username/dataset_name\n",
        "\n",
        "\"\"\"\n",
        "To use the Kaggle API, sign up for a Kaggle account at https://www.kaggle.com. \n",
        "Then go to the 'Account' tab of your user profile (https://www.kaggle.com/<username>/account) and select 'Create API Token'. \n",
        "This will trigger the download of kaggle.json, a file containing your API credentials. \n",
        "Place this file in the location ~/.kaggle/kaggle.json (on Windows in the location C:\\Users\\<Windows-username>\\.kaggle\\kaggle.json)\n",
        "\"\"\"\n",
        "# First download your accounts kaggle.json file to local machine \n",
        "# Upload it to colab using colab's upload method \n",
        "\n",
        "!mv kaggle.json .kaggle/ \n",
        "\n",
        "#Repeat again \n",
        "!kaggle datasets download -d username/dataset_name  \n",
        "\n",
        "#Move dataset to current working directory\n",
        "!mv .kaggle/datasets/username/dataset_name /content/\n",
        "\n"
      ],
      "execution_count": 0,
      "outputs": []
    },
    {
      "metadata": {
        "id": "MpsnXtQAuyml",
        "colab_type": "code",
        "colab": {}
      },
      "cell_type": "code",
      "source": [
        ""
      ],
      "execution_count": 0,
      "outputs": []
    },
    {
      "metadata": {
        "id": "TF0tiVsTup-L",
        "colab_type": "code",
        "colab": {}
      },
      "cell_type": "code",
      "source": [
        "# Download files (not folder) <30MB to local machine \n",
        "\n",
        "from google.colab import files\n",
        "files.download('filename') "
      ],
      "execution_count": 0,
      "outputs": []
    },
    {
      "metadata": {
        "id": "ndo0vKSL0z88",
        "colab_type": "code",
        "colab": {}
      },
      "cell_type": "code",
      "source": [
        ""
      ],
      "execution_count": 0,
      "outputs": []
    },
    {
      "metadata": {
        "id": "cs4YRZbn0lAz",
        "colab_type": "code",
        "colab": {}
      },
      "cell_type": "code",
      "source": [
        "## Mount Drive on Colab\n",
        "\n",
        "#Giving colab permission to access drive\n",
        "\n",
        "!apt-get install -y -qq software-properties-common python-software-properties module-init-tools\n",
        "!add-apt-repository -y ppa:alessandro-strada/ppa 2>&1 > /dev/null\n",
        "!apt-get update -qq 2>&1 > /dev/null\n",
        "!apt-get -y install -qq google-drive-ocamlfuse fuse\n",
        "from google.colab import auth\n",
        "auth.authenticate_user()\n",
        "from oauth2client.client import GoogleCredentials\n",
        "creds = GoogleCredentials.get_application_default()\n",
        "import getpass\n",
        "!google-drive-ocamlfuse -headless -id={creds.client_id} -secret={creds.client_secret} < /dev/null 2>&1 | grep URL\n",
        "vcode = getpass.getpass()\n",
        "!echo {vcode} | google-drive-ocamlfuse -headless -id={creds.client_id} -secret={creds.client_secret}\n",
        "\n",
        "#Note: if you get an error :  “apt-key output should not be parsed (stdout is not a terminal)” Warning\n",
        "# it means that permission has been already granted\n",
        "\n",
        "#Mount drive\n",
        "!mkdir -p drive\n",
        "!google-drive-ocamlfuse drive"
      ],
      "execution_count": 0,
      "outputs": []
    },
    {
      "metadata": {
        "id": "-xWdO4J50qjY",
        "colab_type": "code",
        "colab": {}
      },
      "cell_type": "code",
      "source": [
        ""
      ],
      "execution_count": 0,
      "outputs": []
    },
    {
      "metadata": {
        "id": "WWlEtiaUubtp",
        "colab_type": "code",
        "colab": {}
      },
      "cell_type": "code",
      "source": [
        "#To download large files from colab , transfer them to Drive after mounting it\n",
        "!mv filename drive/"
      ],
      "execution_count": 0,
      "outputs": []
    },
    {
      "metadata": {
        "id": "CgA5S96PvhM9",
        "colab_type": "code",
        "colab": {}
      },
      "cell_type": "code",
      "source": [
        ""
      ],
      "execution_count": 0,
      "outputs": []
    },
    {
      "metadata": {
        "id": "nAVEPkHu7MTU",
        "colab_type": "code",
        "colab": {}
      },
      "cell_type": "code",
      "source": [
        "!kill -9 -1 # Free GPUs"
      ],
      "execution_count": 0,
      "outputs": []
    }
  ]
}