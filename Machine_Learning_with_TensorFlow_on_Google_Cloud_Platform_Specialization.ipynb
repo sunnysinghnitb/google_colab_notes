{
  "nbformat": 4,
  "nbformat_minor": 0,
  "metadata": {
    "colab": {
      "name": "Machine Learning with TensorFlow on Google Cloud Platform Specialization.ipynb",
      "version": "0.3.2",
      "provenance": [],
      "include_colab_link": true
    },
    "kernelspec": {
      "name": "python3",
      "display_name": "Python 3"
    }
  },
  "cells": [
    {
      "cell_type": "markdown",
      "metadata": {
        "id": "view-in-github",
        "colab_type": "text"
      },
      "source": [
        "<a href=\"https://colab.research.google.com/github/sunnysinghnitb/google_colab_notes/blob/master/Machine_Learning_with_TensorFlow_on_Google_Cloud_Platform_Specialization.ipynb\" target=\"_parent\"><img src=\"https://colab.research.google.com/assets/colab-badge.svg\" alt=\"Open In Colab\"/></a>"
      ]
    },
    {
      "metadata": {
        "id": "InHGQYQq1FCj",
        "colab_type": "code",
        "colab": {}
      },
      "cell_type": "code",
      "source": [
        "'''\n",
        "AI == Discipline (like Physics)\n",
        "ML == Way of solving specific AI problems (like Newton's Law of Motion)\n",
        "\n",
        "Replacing Heuristic Rules by Machine Learning\n",
        "'''"
      ],
      "execution_count": 0,
      "outputs": []
    },
    {
      "metadata": {
        "id": "dL28R1GAFlZV",
        "colab_type": "text"
      },
      "cell_type": "markdown",
      "source": [
        "AI == Discipline (like Physics)\n",
        "\n",
        "ML == Way of solving specific AI problems where machines learn (like Newton's Law of Motion)"
      ]
    },
    {
      "metadata": {
        "id": "WFTXuWm1F0rg",
        "colab_type": "text"
      },
      "cell_type": "markdown",
      "source": [
        "Replacing Heuristic Rules by Machine Learning\n",
        "\n",
        "Hand written codes are hard to maintain while algorithms developed by ML get improved themselves\n",
        "\n",
        "Search result for any query is dynamic e.g. \"gaints\""
      ]
    },
    {
      "metadata": {
        "id": "SIEweGkhHq4Z",
        "colab_type": "text"
      },
      "cell_type": "markdown",
      "source": [
        "Different ML models are required for solving a particular problem e.g. when the stocks of a store will run out, translating a sign board by taking its picture\n",
        "\n",
        "As an AI-first company, first start with heuristic rules with the idea in mind to throw these rules once we collected enough data to train the ML model"
      ]
    },
    {
      "metadata": {
        "id": "C0F7o4ziv1mt",
        "colab_type": "text"
      },
      "cell_type": "markdown",
      "source": [
        "Data wins every time. So, given the choice between more data and more complex models, spend your energy collecting more data. And by that means collecting not just more quantity, also more variety."
      ]
    }
  ]
}